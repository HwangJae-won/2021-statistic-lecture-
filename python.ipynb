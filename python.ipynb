{
  "nbformat": 4,
  "nbformat_minor": 0,
  "metadata": {
    "colab": {
      "name": "python",
      "private_outputs": true,
      "provenance": []
    },
    "kernelspec": {
      "name": "python3",
      "display_name": "Python 3"
    }
  },
  "cells": [
    {
      "cell_type": "code",
      "metadata": {
        "id": "r8BOdMaNkF4n"
      },
      "source": [
        "#practice r markdown"
      ],
      "execution_count": null,
      "outputs": []
    },
    {
      "cell_type": "markdown",
      "metadata": {
        "id": "F0GkumEktlFs"
      },
      "source": [
        "#practice r markdown"
      ]
    },
    {
      "cell_type": "markdown",
      "metadata": {
        "id": "bf7dp53PtdOw"
      },
      "source": [
        ""
      ]
    }
  ]
}