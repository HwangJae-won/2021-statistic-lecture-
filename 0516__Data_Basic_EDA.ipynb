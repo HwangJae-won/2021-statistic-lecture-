{
  "nbformat": 4,
  "nbformat_minor": 0,
  "metadata": {
    "colab": {
      "name": "0516_ Data Basic EDA.ipynb",
      "private_outputs": true,
      "provenance": [],
      "authorship_tag": "ABX9TyMSTkmmX7IRY1OUlyuVILyu",
      "include_colab_link": true
    },
    "kernelspec": {
      "name": "python3",
      "display_name": "Python 3"
    },
    "language_info": {
      "name": "python"
    }
  },
  "cells": [
    {
      "cell_type": "markdown",
      "metadata": {
        "id": "view-in-github",
        "colab_type": "text"
      },
      "source": [
        "<a href=\"https://colab.research.google.com/github/HwangJae-won/2021_SEMINAR-IN-STATISTICS/blob/main/0516__Data_Basic_EDA.ipynb\" target=\"_parent\"><img src=\"https://colab.research.google.com/assets/colab-badge.svg\" alt=\"Open In Colab\"/></a>"
      ]
    },
    {
      "cell_type": "code",
      "metadata": {
        "id": "2ELNh1C0NHNI"
      },
      "source": [
        "from google.colab import drive\n",
        "drive.mount('/content/drive')"
      ],
      "execution_count": null,
      "outputs": []
    },
    {
      "cell_type": "code",
      "metadata": {
        "id": "4Mv2BB0mMW_S"
      },
      "source": [
        "import warnings\n",
        "warnings.filterwarnings('ignore')\n",
        "import numpy as np\n",
        "import pandas as pd   \n",
        "import matplotlib.pyplot as plt\n",
        "import seaborn as sns"
      ],
      "execution_count": null,
      "outputs": []
    },
    {
      "cell_type": "markdown",
      "metadata": {
        "id": "er0-cZb4PIDU"
      },
      "source": [
        "# 1. Load Data"
      ]
    },
    {
      "cell_type": "code",
      "metadata": {
        "id": "29JwZWtmNkSQ"
      },
      "source": [
        "train=pd.read_csv('/content/drive/MyDrive/신용카드 사용자 예측/train.csv')\n",
        "test=pd.read_csv('/content/drive/MyDrive/신용카드 사용자 예측/test.csv')\n",
        "sample=pd.read_csv('/content/drive/MyDrive/신용카드 사용자 예측/sample_submission.csv')\n",
        "train"
      ],
      "execution_count": null,
      "outputs": []
    },
    {
      "cell_type": "code",
      "metadata": {
        "id": "H6MA7c1xO3kB"
      },
      "source": [
        "sample #형식 관련 문의해보기 \n",
        "#현재 credict data 자체가 0,1,2로 구성되어 있음. 한 index마다 0,1,2 labeling 해서 나타내면 되는듯 ! (0인 경우 0열에 1로, 1,2열은 0으로 표시하는 식)"
      ],
      "execution_count": null,
      "outputs": []
    },
    {
      "cell_type": "markdown",
      "metadata": {
        "id": "gT-IEESlPFEN"
      },
      "source": [
        "# 2. Check Data & variable"
      ]
    },
    {
      "cell_type": "code",
      "metadata": {
        "id": "PJ45dA8JStpJ"
      },
      "source": [
        "train.columns"
      ],
      "execution_count": null,
      "outputs": []
    },
    {
      "cell_type": "code",
      "metadata": {
        "id": "CnHK341iNXcG"
      },
      "source": [
        "train.info() "
      ],
      "execution_count": null,
      "outputs": []
    },
    {
      "cell_type": "markdown",
      "metadata": {
        "id": "TzgiRob-Ma5f"
      },
      "source": [
        "- 연체 정도를 예측-> credit: 연체 대금 기준으로 한 신용도 \n",
        "- credit가 낮으면 연체 정도가 적을것 \n",
        "- 신상 정보를 바탕으로 credit 예측하기 "
      ]
    },
    {
      "cell_type": "code",
      "metadata": {
        "id": "xGWc1f9b1MMo"
      },
      "source": [
        "train_y = train['credit'].astype(int)\n",
        "train_y"
      ],
      "execution_count": null,
      "outputs": []
    },
    {
      "cell_type": "markdown",
      "metadata": {
        "id": "LdqQOdZ_uris"
      },
      "source": [
        "### 1) binary variable: 변수 분포 확인"
      ]
    },
    {
      "cell_type": "markdown",
      "metadata": {
        "id": "45coQI_-55i7"
      },
      "source": [
        "credit 변수는 0,1,2로 구성되어 있는데 2인 사용자가 훨씬 많음. "
      ]
    },
    {
      "cell_type": "code",
      "metadata": {
        "id": "9NZCtUQQ0MfQ"
      },
      "source": [
        "fig, axes = plt.subplots(1, 3, figsize=(15, 3))\n",
        "\n",
        "sns.distplot(train_y[train['gender']=='M'], ax=axes[0], color=\"red\")\n",
        "sns.distplot(train_y[train['gender']=='F'], ax=axes[0], color=\"skyblue\")\n",
        "\n",
        "sns.distplot(train_y[train['car']=='N'], ax=axes[1], color=\"red\")\n",
        "sns.distplot(train_y[train['car']=='Y'], ax=axes[1], color=\"skyblue\")\n",
        "\n",
        "sns.distplot(train_y[train['reality']=='N'], ax=axes[2], color=\"red\")\n",
        "sns.distplot(train_y[train['reality']=='Y'], ax=axes[2], color=\"skyblue\")\n",
        "\n",
        "axes[0].set_title('gender')\n",
        "axes[1].set_title('car')\n",
        "axes[2].set_title('reality')\n"
      ],
      "execution_count": null,
      "outputs": []
    },
    {
      "cell_type": "markdown",
      "metadata": {
        "id": "eItI5ocu4R0I"
      },
      "source": [
        "- "
      ]
    },
    {
      "cell_type": "markdown",
      "metadata": {
        "id": "1O8yuV4T4teL"
      },
      "source": [
        "- 여성이 많이 이용\n",
        "- 차를 가지지 않음 사람이 더 많음\n",
        "- 부동산 소유자가 더 많음 "
      ]
    },
    {
      "cell_type": "code",
      "metadata": {
        "id": "1b4nz9180U-z"
      },
      "source": [
        "fig, axes = plt.subplots(1, 3, figsize=(15, 3))\n",
        "\n",
        "sns.distplot(train_y[train['work_phone']==0], ax=axes[0], color=\"red\")\n",
        "sns.distplot(train_y[train['work_phone']==1], ax=axes[0], color=\"skyblue\")\n",
        "\n",
        "sns.distplot(train_y[train['phone']==0], ax=axes[1], color=\"red\")\n",
        "sns.distplot(train_y[train['phone']==1], ax=axes[1], color=\"skyblue\")\n",
        "\n",
        "sns.distplot(train_y[train['email']==0], ax=axes[2], color=\"red\")\n",
        "sns.distplot(train_y[train['email']==1], ax=axes[2], color=\"skyblue\")\n",
        "\n",
        "axes[0].set_title('work_phone')\n",
        "axes[1].set_title('phone')\n",
        "axes[2].set_title('email')"
      ],
      "execution_count": null,
      "outputs": []
    },
    {
      "cell_type": "markdown",
      "metadata": {
        "id": "K_IkHthM5PZT"
      },
      "source": [
        "credit2의 email 여부에 따른 차이가 다른 변수보다 큼. "
      ]
    },
    {
      "cell_type": "code",
      "metadata": {
        "id": "20cPIV-ZuWab"
      },
      "source": [
        "#0,1로 채움\n",
        "train['gender'] = train['gender'].replace(['F','M'],[0,1])\n",
        "train['car'] = train['car'].replace(['N','Y'],[0,1])\n",
        "train['reality'] = train['reality'].replace(['N','Y'],[0,1])"
      ],
      "execution_count": null,
      "outputs": []
    },
    {
      "cell_type": "markdown",
      "metadata": {
        "id": "J2gTzWWqOAso"
      },
      "source": [
        "### 2) 직업 유형에서 결측치 처리 방안 \n",
        "- 단순 제거해도 되나?"
      ]
    },
    {
      "cell_type": "code",
      "metadata": {
        "id": "r2LQSTyOOIsq"
      },
      "source": [
        "train[\"occyp_type\"].unique() #무직에 대한 값은 없음"
      ],
      "execution_count": null,
      "outputs": []
    },
    {
      "cell_type": "markdown",
      "metadata": {
        "id": "xZvuRQ_YOgzX"
      },
      "source": [
        "무직으로 볼 지 아니면 결측치 내에서도 다른 그룹으로 나눌지 : 분포보고 1~2개의 그룹으로 나눌지 생각해봐야 할 것 같음 </br>\n",
        "결측치 있는 행 뽑아서 다른 변수들로 분포를 확인해보기 "
      ]
    },
    {
      "cell_type": "code",
      "metadata": {
        "id": "8ccBoFcOvwVQ"
      },
      "source": [
        "#결측치 있는 \n",
        "df=train.copy()\n",
        "df=df.fillna(\"NA\")\n",
        "df[df[\"occyp_type\"]==\"NA\"]"
      ],
      "execution_count": null,
      "outputs": []
    },
    {
      "cell_type": "code",
      "metadata": {
        "id": "OGl9p6ej6l3J"
      },
      "source": [
        "sns.distplot(df[\"credit\"]) #credit의 비율은 전체 데이터와 비슷함"
      ],
      "execution_count": null,
      "outputs": []
    },
    {
      "cell_type": "code",
      "metadata": {
        "id": "FBLxHtBO8IQZ"
      },
      "source": [
        "df"
      ],
      "execution_count": null,
      "outputs": []
    },
    {
      "cell_type": "code",
      "metadata": {
        "id": "98ff-mBs8v0j"
      },
      "source": [
        "sns.violinplot(x='edu_type', y='credit', data=df)\n",
        "#다 비슷한 모양 .. 굳이 나누자면 처음 3개가 credit 1의 비율이 좀 더 큼 "
      ],
      "execution_count": null,
      "outputs": []
    },
    {
      "cell_type": "code",
      "metadata": {
        "id": "181x4VIU9SWg"
      },
      "source": [
        "sns.violinplot(x='income_type', y='credit', data=df)\n",
        "#student의 분포만 다름. 당연함,,, 학생임"
      ],
      "execution_count": null,
      "outputs": []
    },
    {
      "cell_type": "code",
      "metadata": {
        "id": "jk8JtAkF9yuU"
      },
      "source": [
        "sns.violinplot(x='family_type', y='credit', data=df)\n",
        "#비슷한데,,,"
      ],
      "execution_count": null,
      "outputs": []
    },
    {
      "cell_type": "code",
      "metadata": {
        "id": "a4vD_t3_-FmX"
      },
      "source": [
        "sns.violinplot(x='house_type', y='credit', data=df)\n",
        "#오 그나마 다름 "
      ],
      "execution_count": null,
      "outputs": []
    },
    {
      "cell_type": "code",
      "metadata": {
        "id": "f9YNEXcN-R2u"
      },
      "source": [
        "df['house_type'].unique()"
      ],
      "execution_count": null,
      "outputs": []
    },
    {
      "cell_type": "markdown",
      "metadata": {
        "id": "05yu3UPQ_MLw"
      },
      "source": [
        "- 묶어서 확인\n"
      ]
    },
    {
      "cell_type": "markdown",
      "metadata": {
        "id": "FYRRVCldSA8q"
      },
      "source": [
        "## 3) 변수들간 연관도 확인"
      ]
    },
    {
      "cell_type": "code",
      "metadata": {
        "id": "ZwK6MXe2MaZS"
      },
      "source": [
        "train_f = train.loc[:,[\"child_num\", \"income_total\",\"family_size\", \"credit\"]]"
      ],
      "execution_count": null,
      "outputs": []
    },
    {
      "cell_type": "code",
      "metadata": {
        "id": "_G4PkdvoK8cA"
      },
      "source": [
        "plt.figure(figsize=(15,15))\n",
        "sns.heatmap(data = train_f.corr(), annot=True, \n",
        "fmt = '.2f', linewidths=.5, cmap='Blues')"
      ],
      "execution_count": null,
      "outputs": []
    },
    {
      "cell_type": "markdown",
      "metadata": {
        "id": "n3yni3f4Ucy9"
      },
      "source": [
        "credit과는 특별한 연관 없음. 전체적으로 지금 연관도를 보는 것은 의미 없음 "
      ]
    },
    {
      "cell_type": "markdown",
      "metadata": {
        "id": "3B3OGQ9RUfot"
      },
      "source": [
        "더미 변수들이 많아 어떻게 처리할지가 관건\n",
        ": 연관 높은 더미 변수들 조합해서 새로운 특성을 만들어보는 것은 어떨까? "
      ]
    },
    {
      "cell_type": "markdown",
      "metadata": {
        "id": "XhfAMcH8-ZqX"
      },
      "source": [
        "## 4) credit 변수 확인"
      ]
    },
    {
      "cell_type": "code",
      "metadata": {
        "id": "j9EznxU4UcH9"
      },
      "source": [
        "plt.subplots(figsize = (8,8))\n",
        "plt.pie(train['credit'].value_counts(), labels = train['credit'].value_counts().index, \n",
        "        autopct=\"%.2f%%\", shadow = True, startangle = 90)\n",
        "plt.title('credit ratio', size=20)\n",
        "plt.show()"
      ],
      "execution_count": null,
      "outputs": []
    },
    {
      "cell_type": "code",
      "metadata": {
        "id": "ExO9OSuh0U9B"
      },
      "source": [
        "sns.displot(train[\"credit\"])"
      ],
      "execution_count": null,
      "outputs": []
    },
    {
      "cell_type": "markdown",
      "metadata": {
        "id": "DJZXdGpK-pam"
      },
      "source": [
        "- 연체 많이 한 사람 비율이 높은거\n",
        "- 어떤 사람이 신용카드 연체 횟수가 높을지 생각해보자 !"
      ]
    },
    {
      "cell_type": "markdown",
      "metadata": {
        "id": "lwsepUA7_Qdl"
      },
      "source": [
        "[시도해 볼 것]\n",
        "- credit 별로 데이터를 나눠 각 신용도 점수별 특징을 자세히 보자 => 연체 횟수에 어떤 변수가 영향을 많이 줄 지 생각해보고 상관계수를 높이는 방향 \n",
        "- binary, numerical 각각 변수 뜯어보기 \n",
        "- 결측치 처리 방안 적용: 변화 있는지 보기 "
      ]
    }
  ]
}