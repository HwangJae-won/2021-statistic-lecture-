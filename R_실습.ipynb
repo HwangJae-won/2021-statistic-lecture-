{
  "nbformat": 4,
  "nbformat_minor": 0,
  "metadata": {
    "colab": {
      "name": "R 실습.ipynb",
      "private_outputs": true,
      "provenance": [],
      "authorship_tag": "ABX9TyNZQWuGRfLOLcDehDKpKLYs",
      "include_colab_link": true
    },
    "kernelspec": {
      "name": "ir",
      "display_name": "R"
    }
  },
  "cells": [
    {
      "cell_type": "markdown",
      "metadata": {
        "id": "view-in-github",
        "colab_type": "text"
      },
      "source": [
        "<a href=\"https://colab.research.google.com/github/HwangJae-won/2021-statistic-lecture-/blob/main/R_%EC%8B%A4%EC%8A%B5.ipynb\" target=\"_parent\"><img src=\"https://colab.research.google.com/assets/colab-badge.svg\" alt=\"Open In Colab\"/></a>"
      ]
    },
    {
      "cell_type": "code",
      "metadata": {
        "id": "iKdMQLNzuZQe"
      },
      "source": [
        "#R 실습\n"
      ],
      "execution_count": null,
      "outputs": []
    },
    {
      "cell_type": "markdown",
      "metadata": {
        "id": "RMqdMkHIuev1"
      },
      "source": [
        "#R 실습"
      ]
    },
    {
      "cell_type": "markdown",
      "metadata": {
        "id": "Tgr7Q7kMudoI"
      },
      "source": [
        "wow"
      ]
    }
  ]
}