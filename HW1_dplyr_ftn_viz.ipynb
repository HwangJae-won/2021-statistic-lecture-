{
  "nbformat": 4,
  "nbformat_minor": 0,
  "metadata": {
    "colab": {
      "name": "HW1_dplyr ftn_viz.ipynb",
      "private_outputs": true,
      "provenance": [],
      "authorship_tag": "ABX9TyMBU/XJ4Wcmi7AowozjxIpI",
      "include_colab_link": true
    },
    "kernelspec": {
      "name": "ir",
      "display_name": "R"
    },
    "language_info": {
      "name": "R"
    }
  },
  "cells": [
    {
      "cell_type": "markdown",
      "metadata": {
        "id": "view-in-github",
        "colab_type": "text"
      },
      "source": [
        "<a href=\"https://colab.research.google.com/github/HwangJae-won/2021_SEMINAR-IN-STATISTICS/blob/main/HW1_dplyr_ftn_viz.ipynb\" target=\"_parent\"><img src=\"https://colab.research.google.com/assets/colab-badge.svg\" alt=\"Open In Colab\"/></a>"
      ]
    },
    {
      "cell_type": "markdown",
      "metadata": {
        "id": "CeEk3BrwSxWk"
      },
      "source": [
        "## 패키지 설치 "
      ]
    },
    {
      "cell_type": "code",
      "metadata": {
        "id": "_b1AlrA0gv8n"
      },
      "source": [
        "install.packages(\"tidyverse\")"
      ],
      "execution_count": null,
      "outputs": []
    },
    {
      "cell_type": "code",
      "metadata": {
        "id": "elVJO1q9SrBV"
      },
      "source": [
        "library(tidyverse)"
      ],
      "execution_count": null,
      "outputs": []
    },
    {
      "cell_type": "markdown",
      "metadata": {
        "id": "wGC_dZ4lS2RG"
      },
      "source": [
        "## 데이터 "
      ]
    },
    {
      "cell_type": "code",
      "metadata": {
        "id": "Gz-Vsg-DS1y5"
      },
      "source": [
        "install.packages(\"nycflights13\")"
      ],
      "execution_count": null,
      "outputs": []
    },
    {
      "cell_type": "code",
      "metadata": {
        "id": "oM6cVIHXTCwT"
      },
      "source": [
        "library(nycflights13)"
      ],
      "execution_count": null,
      "outputs": []
    },
    {
      "cell_type": "markdown",
      "metadata": {
        "id": "Ij6z7HLDTI4A"
      },
      "source": [
        "## 데이터 확인 \n"
      ]
    },
    {
      "cell_type": "code",
      "metadata": {
        "id": "TrYJbOX2TsdO"
      },
      "source": [
        "#데이터 정보 확인하기\n",
        "?flights"
      ],
      "execution_count": null,
      "outputs": []
    },
    {
      "cell_type": "code",
      "metadata": {
        "id": "FJA8lB4zTLFH"
      },
      "source": [
        "flights%>%head(3)"
      ],
      "execution_count": null,
      "outputs": []
    },
    {
      "cell_type": "markdown",
      "metadata": {
        "id": "IRs13RXyU_cS"
      },
      "source": [
        "## Dplyr functions"
      ]
    },
    {
      "cell_type": "markdown",
      "metadata": {
        "id": "SOMFqqo2Uqh5"
      },
      "source": [
        "### 1. filter"
      ]
    },
    {
      "cell_type": "code",
      "metadata": {
        "id": "NCeheqxgUkcW"
      },
      "source": [
        "flights%>% filter(month==1) %>% head(3) "
      ],
      "execution_count": null,
      "outputs": []
    },
    {
      "cell_type": "code",
      "metadata": {
        "id": "v7JqnfVtVulp"
      },
      "source": [
        "#조건 여러개로 filter 가능\n",
        "flights %>% filter(month==1 & distance >= 1000 & ) %>% head(5)"
      ],
      "execution_count": null,
      "outputs": []
    },
    {
      "cell_type": "markdown",
      "metadata": {
        "id": "dWtHTa6jUt7e"
      },
      "source": [
        "### 2. arrange"
      ]
    },
    {
      "cell_type": "code",
      "metadata": {
        "id": "2MFsSBZxVJ5g"
      },
      "source": [
        "#시간별 정렬\n",
        "arrange(flights, year, month, day) %>% head()"
      ],
      "execution_count": null,
      "outputs": []
    },
    {
      "cell_type": "code",
      "metadata": {
        "id": "zEGulgqDZq2A"
      },
      "source": [
        "#비행 시간별 정렬\n",
        "arrange(flights, hour) %>% head()"
      ],
      "execution_count": null,
      "outputs": []
    },
    {
      "cell_type": "code",
      "metadata": {
        "id": "-LKPTx9qaArz"
      },
      "source": [
        "#비행 거리 순 정렬 \n",
        "arrange(flights, desc(distance)) %>% head(3)"
      ],
      "execution_count": null,
      "outputs": []
    },
    {
      "cell_type": "markdown",
      "metadata": {
        "id": "iuuygDh8VKUz"
      },
      "source": [
        "### 3. select"
      ]
    },
    {
      "cell_type": "code",
      "metadata": {
        "id": "Ksqmbj7kVM_6"
      },
      "source": [
        "select(flights, year:day) %>% head()"
      ],
      "execution_count": null,
      "outputs": []
    },
    {
      "cell_type": "code",
      "metadata": {
        "id": "Yo0WtjGrahEE"
      },
      "source": [
        "select(flights,tailnum:dest ) %>% head()"
      ],
      "execution_count": null,
      "outputs": []
    },
    {
      "cell_type": "markdown",
      "metadata": {
        "id": "EigJCiJEVNOL"
      },
      "source": [
        "### 4. mutate"
      ]
    },
    {
      "cell_type": "code",
      "metadata": {
        "id": "y461C4MNVPkk"
      },
      "source": [
        "flights %>% \n",
        "    select(year:day, ends_with(\"delay\"), distance, air_time) %>% \n",
        "    mutate(gain = dep_delay - arr_delay,\n",
        "              hours = air_time / 60,\n",
        "              gain_per_hour = gain / hours) %>% head()"
      ],
      "execution_count": null,
      "outputs": []
    },
    {
      "cell_type": "markdown",
      "metadata": {
        "id": "MO5oxDE5VRL9"
      },
      "source": [
        "### 5. summarize"
      ]
    },
    {
      "cell_type": "code",
      "metadata": {
        "id": "8hmivfbGVTl0"
      },
      "source": [
        "flights %>% group_by(year, month, day) %>% \n",
        "summarise(delay = mean(dep_delay, na.rm = TRUE)) %>% head()"
      ],
      "execution_count": null,
      "outputs": []
    },
    {
      "cell_type": "markdown",
      "metadata": {
        "id": "aE_hy8HLVT2H"
      },
      "source": [
        "## Data viz."
      ]
    },
    {
      "cell_type": "code",
      "metadata": {
        "id": "Vk1zUiZTVX2I"
      },
      "source": [
        "flights %>% group_by(dest) %>% \n",
        "   summarise(count = n(), dist = mean(distance, na.rm = TRUE), delay = mean(arr_delay, na.rm = TRUE) ) %>%\n",
        "   filter(count > 20, dest != \"HNL\") %>% \n",
        "ggplot(mapping = aes(x = dist, y = delay)) +\n",
        "  geom_point(aes(size = count), alpha = 1/3) +\n",
        "  geom_smooth(se = FALSE)"
      ],
      "execution_count": null,
      "outputs": []
    },
    {
      "cell_type": "code",
      "metadata": {
        "id": "7W0F1hzfb2uz"
      },
      "source": [
        "flights %>% group_by(dest) %>% \n",
        "   summarise(count = n(), dist = mean(distance, na.rm = TRUE), delay = mean(arr_delay, na.rm = TRUE) ) %>%\n",
        "   filter(count > 20, dest != \"HNL\") %>% \n",
        "ggplot(mapping = aes(x = dist, y = delay)) + \n",
        "  geom_point() + \n",
        "  geom_line() + theme_bw()"
      ],
      "execution_count": null,
      "outputs": []
    },
    {
      "cell_type": "code",
      "metadata": {
        "id": "diMDbB1Ih626"
      },
      "source": [
        ""
      ],
      "execution_count": null,
      "outputs": []
    }
  ]
}