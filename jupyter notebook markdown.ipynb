{
 "cells": [
  {
   "cell_type": "markdown",
   "metadata": {},
   "source": [
    "## I. Jupyter 활용하기"
   ]
  },
  {
   "cell_type": "markdown",
   "metadata": {},
   "source": [
    "아마 주피터 노트북을 처음 사용해보시는 분들도 있을 거라 생각해서 간단한 가이드라인 제시해드립니다! :)\n",
    "긴 작업을 수행 시, 기본 파이썬 인터프리터는 매번 코드를 입력하기 때문에 불편할 수밖에 없습니다. 이럴 때는 파이썬 프로그램을 파일로 저장하고, 그 파일을 실행하는 방법이 편하겠죠! 구글 코랩 등등 많은 툴이 있지만 저희는 주피터 노트북을 사용해서 스터디 진행하려 합니다. \n",
    "\n",
    "1. 텍스트강조\n",
    "2. 목록\n",
    "3. 수평선\n",
    "4. 이미지 삽입"
   ]
  },
  {
   "cell_type": "markdown",
   "metadata": {},
   "source": [
    "ctrㅣ+ enter 입력시 \n",
    "code 모드에서는 파이썬 프로그램이 실시되고, markdown 모드에서는 다양한 설정을 추가하여 메모를 남길 수 있습니다."
   ]
  },
  {
   "cell_type": "code",
   "execution_count": null,
   "metadata": {},
   "outputs": [],
   "source": [
    "# 단축키\n",
    "y : code 모드로\n",
    "m : markdown 모드로\n",
    "a : 새 셀 위로\n",
    "b : 새 셀 아래로\n",
    "x : 셀 지우기\n",
    "z : 지운 셀 복원"
   ]
  },
  {
   "cell_type": "markdown",
   "metadata": {},
   "source": [
    "### 1. 텍스트 강조"
   ]
  },
  {
   "cell_type": "markdown",
   "metadata": {},
   "source": [
    "셀을 실행시켜 어떻게 글씨가 변하는지 확인해보세요!"
   ]
  },
  {
   "cell_type": "markdown",
   "metadata": {},
   "source": [
    "1. `#`로 강조: 1~6개 까지 사용\n",
    "\n",
    "예시)\n",
    "\n",
    "# 와우\n",
    "## 와우\n",
    "### 와우 \n",
    "#### 와우 \n",
    "##### 와우 \n",
    "###### 와우 "
   ]
  },
  {
   "cell_type": "markdown",
   "metadata": {},
   "source": [
    "2. 하이라이터 표시: 텍스트 앞 뒤에 ```\n",
    "\n",
    "예시)\n",
    "\n",
    "`파이팅` "
   ]
  },
  {
   "cell_type": "markdown",
   "metadata": {},
   "source": [
    "3. 기울어진 글씨 : 텍스트 앞 뒤에 `*` 또는 `_`\n",
    "\n",
    "예시)\n",
    "*그렇군*"
   ]
  },
  {
   "cell_type": "markdown",
   "metadata": {},
   "source": [
    "4. 굵은 글씨 : 텍스트 앞 뒤에 `**` 또는 `__`\n",
    "\n",
    "예시)\n",
    "**보아즈**"
   ]
  },
  {
   "cell_type": "markdown",
   "metadata": {},
   "source": [
    "5. 줄 그어진 글씨 : 텍스트 앞 뒤에 `~~`\n",
    "\n",
    "    **예시)** ~~삭제~~ \n",
    "   "
   ]
  },
  {
   "cell_type": "markdown",
   "metadata": {},
   "source": [
    "6. 글씨 색상 변경: `<font color='색상명(영문)'> 텍스트`\n",
    "\n",
    "    **예시)** <font color='red'> 글씨 색상 변경"
   ]
  },
  {
   "cell_type": "markdown",
   "metadata": {},
   "source": [
    "### 2. 목록"
   ]
  },
  {
   "cell_type": "markdown",
   "metadata": {},
   "source": [
    "#### 1. 순서가 있는 목록\n",
    "1. 하나\n",
    "2. 둘\n",
    "3. 셋"
   ]
  },
  {
   "cell_type": "markdown",
   "metadata": {},
   "source": [
    "#### 2. 순서가 없는 목록 : 글머리 기호 사용\n",
    "- 하나\n",
    "- 둘\n",
    "- 셋\n",
    "\n",
    "* 첫째\n",
    "* 둘째\n",
    "* 셋째"
   ]
  },
  {
   "cell_type": "markdown",
   "metadata": {},
   "source": [
    "#### 3. 목록 순차적으로 들여쓰기 : tab 키 사용\n",
    "- 하나\n",
    "    - 둘\n",
    "        - 셋\n",
    "\n",
    "* 첫째\n",
    "    * 둘째\n",
    "        * 셋째"
   ]
  },
  {
   "cell_type": "markdown",
   "metadata": {},
   "source": [
    "#### <font color='red'> 주의사항 : 줄바꿈 필수!"
   ]
  },
  {
   "cell_type": "markdown",
   "metadata": {},
   "source": [
    "### 3. 수평선\n",
    "*** 또는 ---"
   ]
  },
  {
   "cell_type": "markdown",
   "metadata": {},
   "source": [
    "***\n",
    "*****\n",
    "- - -\n",
    "----------------"
   ]
  },
  {
   "cell_type": "markdown",
   "metadata": {},
   "source": [
    "### 4. 이미지 삽입"
   ]
  },
  {
   "cell_type": "markdown",
   "metadata": {},
   "source": [
    "1. 인터넷에서 이미지를 불러올 때: \n",
    "\n",
    "    `<img src = \"이미지 주소 또는 링크\">`\n",
    "    \n",
    "    `![대체 문구](이미지 주소)`"
   ]
  },
  {
   "cell_type": "markdown",
   "metadata": {},
   "source": [
    "2. 내 컴퓨터에 저장된 이미지를 불러올 때: `<img src = \"내 컴퓨터의 저장위치\">`"
   ]
  },
  {
   "cell_type": "markdown",
   "metadata": {},
   "source": [
    "**예시)**\n",
    "<img src=\"http://mblogthumb2.phinf.naver.net/MjAxNzEwMDhfMTkx/MDAxNTA3NDY4MjA1Mzky.IRnRPam6YlHFgh4dPpfQ2BBIGj4cnFPt_fpl7hZhifog.YEcfY-iHS52CtZGyRXW_OGAS45hm5-oVeBel5hzt3XQg.PNG.pgh7092/%EC%A3%BC%ED%94%BC%ED%84%B0%EB%85%B8%ED%8A%B8%EB%B6%81_%EB%A1%9C%EA%B3%A0.png?type=w800\" alt=\"Jupyter-img\">"
   ]
  },
  {
   "cell_type": "markdown",
   "metadata": {},
   "source": [
    "![anaconda_logo](https://hiseon.me/wp-content/uploads/2019/06/anaconda-logo.png)"
   ]
  }
 ],
 "metadata": {
  "kernelspec": {
   "display_name": "Python 3",
   "language": "python",
   "name": "python3"
  },
  "language_info": {
   "codemirror_mode": {
    "name": "ipython",
    "version": 3
   },
   "file_extension": ".py",
   "mimetype": "text/x-python",
   "name": "python",
   "nbconvert_exporter": "python",
   "pygments_lexer": "ipython3",
   "version": "3.8.3"
  }
 },
 "nbformat": 4,
 "nbformat_minor": 2
}
